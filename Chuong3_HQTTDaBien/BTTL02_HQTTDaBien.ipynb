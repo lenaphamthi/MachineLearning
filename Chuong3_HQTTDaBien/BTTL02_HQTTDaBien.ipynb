{
  "nbformat": 4,
  "nbformat_minor": 0,
  "metadata": {
    "colab": {
      "provenance": [],
      "authorship_tag": "ABX9TyMfwG3qE7sMgd4jbNSk3iQK",
      "include_colab_link": true
    },
    "kernelspec": {
      "name": "python3",
      "display_name": "Python 3"
    },
    "language_info": {
      "name": "python"
    }
  },
  "cells": [
    {
      "cell_type": "markdown",
      "metadata": {
        "id": "view-in-github",
        "colab_type": "text"
      },
      "source": [
        "<a href=\"https://colab.research.google.com/github/lenaphamthi/MachineLearning/blob/main/Chuong3_HQTTDaBien/BTTL02_HQTTDaBien.ipynb\" target=\"_parent\"><img src=\"https://colab.research.google.com/assets/colab-badge.svg\" alt=\"Open In Colab\"/></a>"
      ]
    },
    {
      "cell_type": "markdown",
      "source": [
        "1. X= [1 6 4 2 7 5 3 8 7 4 9 2 5 2 1]    .Hãy chuyển ma trận X sang kích thước (5, 3)\n",
        "*   Sử dụng hàm np.reshape()\n",
        "\n"
      ],
      "metadata": {
        "id": "BqFsQsChT_2v"
      }
    },
    {
      "cell_type": "code",
      "execution_count": null,
      "metadata": {
        "colab": {
          "base_uri": "https://localhost:8080/"
        },
        "id": "oIBvT-FAT7T8",
        "outputId": "c9508e75-6ffb-4e92-aa85-9cc5c5fd7bcb"
      },
      "outputs": [
        {
          "output_type": "execute_result",
          "data": {
            "text/plain": [
              "array([[1, 6, 4],\n",
              "       [2, 7, 5],\n",
              "       [3, 8, 7],\n",
              "       [4, 9, 2],\n",
              "       [5, 2, 1]])"
            ]
          },
          "metadata": {},
          "execution_count": 25
        }
      ],
      "source": [
        "import numpy as np \n",
        "#chuyển ma trận X \n",
        "X= np.array([1,6,4, 2, 7, 5, 3, 8, 7, 4, 9, 2, 5, 2, 1]).reshape(5,3)\n",
        "X"
      ]
    },
    {
      "cell_type": "code",
      "source": [
        "#số chiều \n",
        "X.ndim"
      ],
      "metadata": {
        "colab": {
          "base_uri": "https://localhost:8080/"
        },
        "id": "Zrx1kAv1UCNU",
        "outputId": "1ed9973e-34d6-4185-de14-b56204f5438e"
      },
      "execution_count": null,
      "outputs": [
        {
          "output_type": "execute_result",
          "data": {
            "text/plain": [
              "2"
            ]
          },
          "metadata": {},
          "execution_count": 60
        }
      ]
    },
    {
      "cell_type": "code",
      "source": [
        "#kích thước\n",
        "X.shape"
      ],
      "metadata": {
        "colab": {
          "base_uri": "https://localhost:8080/"
        },
        "id": "erD1_cuVUE71",
        "outputId": "202191d2-fd47-40f9-fe98-abe0eba3fad2"
      },
      "execution_count": null,
      "outputs": [
        {
          "output_type": "execute_result",
          "data": {
            "text/plain": [
              "(5, 3)"
            ]
          },
          "metadata": {},
          "execution_count": 61
        }
      ]
    },
    {
      "cell_type": "markdown",
      "source": [
        "2. Hãy tạo vector cột sau:\n",
        "w= [2 4 2]\n",
        "*  Sử dụng hàm np.reshape()"
      ],
      "metadata": {
        "id": "JxEK9wgUUeBp"
      }
    },
    {
      "cell_type": "code",
      "source": [
        "w= np.array([2, 4, 2]).reshape(3,1) \n",
        "w"
      ],
      "metadata": {
        "colab": {
          "base_uri": "https://localhost:8080/"
        },
        "id": "TAikiKpWUz6I",
        "outputId": "a06a27da-9680-432e-f799-d13a8d45560a"
      },
      "execution_count": null,
      "outputs": [
        {
          "output_type": "execute_result",
          "data": {
            "text/plain": [
              "array([[2],\n",
              "       [4],\n",
              "       [2]])"
            ]
          },
          "metadata": {},
          "execution_count": 109
        }
      ]
    },
    {
      "cell_type": "code",
      "source": [
        "#số chiều \n",
        "w.ndim"
      ],
      "metadata": {
        "colab": {
          "base_uri": "https://localhost:8080/"
        },
        "id": "bLx2i9dPUIkn",
        "outputId": "e4e0335f-6e20-45cf-a6c8-86ba5cf4395a"
      },
      "execution_count": null,
      "outputs": [
        {
          "output_type": "execute_result",
          "data": {
            "text/plain": [
              "2"
            ]
          },
          "metadata": {},
          "execution_count": 62
        }
      ]
    },
    {
      "cell_type": "code",
      "source": [
        "#kích thước\n",
        "w.shape"
      ],
      "metadata": {
        "colab": {
          "base_uri": "https://localhost:8080/"
        },
        "id": "WyszGG2UULqx",
        "outputId": "c9791af3-47b0-4f09-852e-fd7ffb57dc90"
      },
      "execution_count": null,
      "outputs": [
        {
          "output_type": "execute_result",
          "data": {
            "text/plain": [
              "(3, 1)"
            ]
          },
          "metadata": {},
          "execution_count": 63
        }
      ]
    },
    {
      "cell_type": "markdown",
      "source": [
        "3. Về lý thuyết, ta có: $h_w(x)=wX$\n",
        "\n",
        "Tuy nhiên, với trường hợp cụ thể của X và w ở câu 2&3 thì giả thuyết $h_wx$ được viết lại như sau: $h_w(x)=Xw$\n",
        "\n",
        "*   Hãy viết mã lệnh tính $h_w(x)$\n",
        "*  Xác định chiều (ndim), kích thước (shape) và in kết quả $h_w(x)$ ra màn hình\n",
        "\n",
        "\n"
      ],
      "metadata": {
        "id": "fpiG4pzTVKAl"
      }
    },
    {
      "cell_type": "code",
      "source": [
        "#Mã lệnh tính \n",
        "h = np.dot(X,w)"
      ],
      "metadata": {
        "id": "rHJ4--SWVvbi"
      },
      "execution_count": null,
      "outputs": []
    },
    {
      "cell_type": "code",
      "source": [
        "#xác định chiều\n",
        "h.ndim"
      ],
      "metadata": {
        "colab": {
          "base_uri": "https://localhost:8080/"
        },
        "id": "kSTnEU2qgFyc",
        "outputId": "c0b02f8d-cb11-4c98-dc3d-55e4acd1b610"
      },
      "execution_count": null,
      "outputs": [
        {
          "output_type": "execute_result",
          "data": {
            "text/plain": [
              "2"
            ]
          },
          "metadata": {},
          "execution_count": 28
        }
      ]
    },
    {
      "cell_type": "code",
      "source": [
        "#kích thước \n",
        "h.shape"
      ],
      "metadata": {
        "colab": {
          "base_uri": "https://localhost:8080/"
        },
        "id": "Lc1EsX3bga6J",
        "outputId": "924c0abc-cbf3-41a0-ea72-beb1aa521ee3"
      },
      "execution_count": null,
      "outputs": [
        {
          "output_type": "execute_result",
          "data": {
            "text/plain": [
              "(5, 1)"
            ]
          },
          "metadata": {},
          "execution_count": 29
        }
      ]
    },
    {
      "cell_type": "code",
      "source": [
        "#in kết quả\n",
        "h"
      ],
      "metadata": {
        "colab": {
          "base_uri": "https://localhost:8080/"
        },
        "id": "g24Z9awvggBE",
        "outputId": "a3e30e57-40cd-49b1-adb6-48aa1b2a2415"
      },
      "execution_count": null,
      "outputs": [
        {
          "output_type": "execute_result",
          "data": {
            "text/plain": [
              "array([[34],\n",
              "       [42],\n",
              "       [52],\n",
              "       [48],\n",
              "       [20]])"
            ]
          },
          "metadata": {},
          "execution_count": 30
        }
      ]
    },
    {
      "cell_type": "markdown",
      "source": [
        "Từ công thức \n",
        "\n",
        "![image.png](data:image/png;base64,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)\n",
        "\n",
        "Chuyển sang công thức viết theo dạng ma trận, ta có công thức tương đương sau\n",
        "\n",
        "\n",
        "![image.png](data:image/png;base64,iVBORw0KGgoAAAANSUhEUgAAARQAAAA0CAYAAABLq8f7AAAAAXNSR0IArs4c6QAAAARnQU1BAACxjwv8YQUAAAAJcEhZcwAADsMAAA7DAcdvqGQAAAiHSURBVHhe7Z1riE1fGMbfcSfzyT0RPrhFriP3D9KMJOKDRqGEXCKJYUoIKbmWIuIbSvNBQ8atSRmXpKHRxCAhtyhSyCVj9n8/a/aa/7ZnX87MXufMOTPPr3Znn7XXmb32+77r2e9ae50zWZaNEEKIAVo5r4QQEhsKCiHEGBQUQogxKCiEEGNQUAghxqCgEEKMQUEhhBiDgkIyBiyZun79ukydOlX69esnJ06ckL9//zpHSTpAQSEZw7Nnz+TatWtSUlIily9flosXL8rbt2+doyQdoKAkQE1NjZSWlkphYaH8/PnTKSWpZtCgQbJnzx7Jzs6Wrl27Srdu3aRdu3bOUZIOUFAi+PXrlxQVFcm7d+/k9+/fTilpSqqrq+XChQuydOlS6dWrl1NK0gEKSgQdOnSQ/Px8GT9+vLRt29YpJU0FxOTs2bMyceJEmTBhglNK0gUKCskYMCl77tw5ycnJkSFDhsiNGzfk6dOnzlGSDjRaUODIkSNHyu3bt52SxNm1a5esXLmy2c9HnDlzRrKyskK3GTNmyOfPn51P+BPH1plGWGw8fPhQNm3aJIMHD1a2W7dunXMkHjintq3bZ+52wAeHDh1S+yQE/HyBH6dPn8bPGqht586dTmktOLZixQrrx48fTknDefLkiZWbm6teM4Gqqiprw4YNDbpm1IWdRowY4XudsGteXp716dMnp6Q+QbbGZ7V/bt26VXcuvA86X6aQqtjQNoONAeyo9+ET+MZtexyP8ldLJ1BQtLG9wQwn5+fnGzFqpjjo8OHD1qhRo6zs7GxrypQpVnl5uXMkGtgLHdxrR4DrRnnQ9YfZ2tsZgD4X7JrppCI2IMrafrBncXGx2tegDV5xRpmfL0ktkUMeuwNJx44d1T7SP6R9s2bNki5duqiyOIwePVotULpy5YpTkp6sXbtWHjx4IF+/fpWysjIZM2aMcyQaPOosKCiQ48ePq/G/G9jw2LFjvraMsjV8At+8ePFCvdf1jxw5IpMmTVJlmUyyYwNDmG/fvsm8efPUe9hzzpw5al+DR9M9evRw3tWCdgHEA6lPoKC8fv1a7t69q5yqQdnLly9l7NixTkktetyJsagGY1L3/ACOoQ7qanSnuHnzpu+YGWUYx+oxbdCW7vMxCFr7riYLFy5MeB4kyNZucMy+Y0pFRYWsX79eFi1aVCcmjfVJstHndLfLrywqNuKCpQBYz6Jvln7Y2ZH0799f+vbt65T8365Tp06ldcw1FYGCAmP27NlTTYBpUAbHQ7nd6A7jBkuk3axevVo9fvV2EAjWq1evxE4hnZL/gfNwB7czqdANdcICo6lB29Dh7fRZdZqoSVgQZGs3yH4mT54s9nDsHzEBcXySLCBo06ZNE3uYofa1HXQ75s+fr95rwmIjDhACrCsaMGCAU+IP7AW7emMrWe1qDgQKCowJw3Xq1MkpEWVEbxmAwXv37q2cBGchUBAwHz58UB0D2ONQlb6jE7hBh4Eo6HqpBB02mZsbXDeGI1evXk0ojQ+ytRtt57y8vH+EH8TxiRd83kSmCMHDBgFz+xyv48aNS1lsQAi0fYPAkKhz586+w8emjNl0x1dQtIK750+icKv90aNHVZAjw4HR8fcgUEi3/fj48aOvc0wFchAIimRuXhDEyBr0uD0OEIg1a9bI1q1b1XuIg5c4PnGDGDCZKaJDwm/a55cuXZKZM2eqfS9BsZFMYNsie0iEuCINw1dQ/OZPokBddBh8eQtitHjx4rrP79+/X6W6QRO5mPjyS+1NB3JTgjsevsy2e/fu2G2FGGzZskUJCu6gSMv9xvRxfJJMcE60G4IGu0D4grKkoNiIA7I+bRsvsCHEF8OwID9B4CCIptvVHPAVlPLy8nrzJ0A7IWjsiHR++/btar4AQYOUG2N8BIxf6ghagnNwx8MiLAhAoh04zNYQA2SP2qYYQmACFzcCL43xSSrA+SFyyARyc3Od0n9JVmxAKGAH/YRMAzGBrTCXo/0E3+FnEtzAL/BP2HC0peIrKDC0n8HgWGQEfikojmHSEfME7rtNVIrf3J2jswnvpClAsC5YsEDdpb342Rr1MUTZtm1bvcfFyEIgWqijaaxPUgF8jiwYnTcoE0hmbOC8jx8/rrMXXufOnSv79u2rW4mrxWzo0KGqDoC98eTJb7KW2NhB+w92AKsFRe4FUxr7bllvMVUcTP89E9h3eWvJkiVW9+7dQxedJQquzbvSWBO2eCsdbWMSXBeuP4hUXL97YVuicGFbOPUEBQb2rg50E9YJGorJv2UCBElhYaFVWVlpff/+3Vq+fLl1/vx552jDwfVBs8O2sOtPN/uYAjEW1ZFTce0NFa3m6g+T1AmKO/ixHwYcEFelIVjp/F2empoaa8eOHVZpaalVXV1tHThwwNq4caNVUVFh2UMXa+/evcpOOTk5ah913OhgdYuH3xYVoCZsnQ647RHVgVMdG2hPVMyjLQUFBRnvh2RTL0NJFBgYmUyUI/xAqpnuneTOnTvWyZMnrT9//qhrLSsrs1atWmWVlJRYb968sZYtW6bKHj16ZB08eFAJULKIY+tMIxNigwTDf5buw7179+T9+/cye/ZsadWqdt4aE6d4NIt1H/oR8ObNm9XEIibqpk+fruoR0pLxfcrTkqmsrFRigi+K4RWLrgAeyeJHfdq3by9VVVUybNgwad26tdpv06aN3L9/X9UjpCVDQXGBbxNj4RkeHyIz6dOnj3z58kU9vsWP+wwfPlz924bnz5/LwIED1T5Ep7i4uN6aHUJaIhzyEEKMwQyFEGIMCgohxBgUFEKIMSgohBBjUFAIIcagoBBCjEFBIYQYg4JCCDEGBYUQYgwKCiHEGBQUQogxKCiEEGNQUAghxqCgEEKMQUEhhBiDgkIIMQYFhRBiDAoKIcQYFBRCiCFE/gOiXoiptJYx8AAAAABJRU5ErkJggg==)"
      ],
      "metadata": {
        "id": "o6xl10vCfHwk"
      }
    },
    {
      "cell_type": "code",
      "source": [
        "#mã lệnh tính \n",
        "y= np.reshape([1,2, 3, 2, 1], (5, 1))\n",
        "m = y.shape[0]\n",
        "J = (1/(2*m))*np.sum(np.square(h-y))\n",
        "print(J)"
      ],
      "metadata": {
        "colab": {
          "base_uri": "https://localhost:8080/"
        },
        "id": "n-nyYDf6foCU",
        "outputId": "add817a8-be6f-4b27-b24e-e0b4fd3de01b"
      },
      "execution_count": null,
      "outputs": [
        {
          "output_type": "stream",
          "name": "stdout",
          "text": [
            "756.7\n"
          ]
        }
      ]
    },
    {
      "cell_type": "markdown",
      "source": [
        "Theo lý thuyết, công thức tính đạo hàm riêng là:\n",
        "\n",
        "![image.png](data:image/png;base64,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)\n",
        "\n",
        "Chuyển sang công thức viết theo dạng ma trận, ta có công thức tương đương sau\n",
        "\n",
        "![image.png](data:image/png;base64,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)"
      ],
      "metadata": {
        "id": "g1rgoKgbNe2e"
      }
    },
    {
      "cell_type": "code",
      "source": [
        "#chuyển vị X \n",
        "XT = X.T\n",
        "print(XT)"
      ],
      "metadata": {
        "colab": {
          "base_uri": "https://localhost:8080/"
        },
        "id": "6ZpepXuKSiz6",
        "outputId": "eec845b6-743b-464e-9b25-ff15695ca2c6"
      },
      "execution_count": null,
      "outputs": [
        {
          "output_type": "stream",
          "name": "stdout",
          "text": [
            "[[1 2 3 4 5]\n",
            " [6 7 8 9 2]\n",
            " [4 5 7 2 1]]\n"
          ]
        }
      ]
    },
    {
      "cell_type": "code",
      "source": [
        "#số chiều\n",
        "XT.ndim"
      ],
      "metadata": {
        "colab": {
          "base_uri": "https://localhost:8080/"
        },
        "id": "TDLlkw-oTOLA",
        "outputId": "a9b3b402-d6c5-4d37-abe6-ed4ff72e5e56"
      },
      "execution_count": null,
      "outputs": [
        {
          "output_type": "execute_result",
          "data": {
            "text/plain": [
              "2"
            ]
          },
          "metadata": {},
          "execution_count": 53
        }
      ]
    },
    {
      "cell_type": "code",
      "source": [
        "#kích thước \n",
        "XT.shape"
      ],
      "metadata": {
        "colab": {
          "base_uri": "https://localhost:8080/"
        },
        "id": "tYuN4hAAS6cW",
        "outputId": "6e129118-62b3-4075-f1bd-a578bdc26b57"
      },
      "execution_count": null,
      "outputs": [
        {
          "output_type": "execute_result",
          "data": {
            "text/plain": [
              "(3, 5)"
            ]
          },
          "metadata": {},
          "execution_count": 50
        }
      ]
    },
    {
      "cell_type": "code",
      "source": [
        "#mã lệnh tính \n",
        "dh_J = (1/(m))*np.sum(XT.dot(np.square(h-y)))\n",
        "print(dh_J)"
      ],
      "metadata": {
        "colab": {
          "base_uri": "https://localhost:8080/"
        },
        "id": "6vxnbM4uO0oO",
        "outputId": "eba59174-4f37-49aa-f354-a0513a077022"
      },
      "execution_count": null,
      "outputs": [
        {
          "output_type": "stream",
          "name": "stdout",
          "text": [
            "22445.0\n"
          ]
        }
      ]
    },
    {
      "cell_type": "markdown",
      "source": [
        "Theo thuật toán Gradient descent, các trọng số được cập nhật theo công thức\n",
        "![image.png](data:image/png;base64,iVBORw0KGgoAAAANSUhEUgAAAVIAAAAmCAYAAACWEROMAAAAAXNSR0IArs4c6QAAAARnQU1BAACxjwv8YQUAAAAJcEhZcwAAEnQAABJ0Ad5mH3gAAA09SURBVHhe7Z0JsE11HMd/lgohIWUJkZQmRQum7CVLQyhTpGixtcwQTaRRWabJWJqptNhHaDEMoYSihCitsrerVFIJRZ3O5/fOed1733n33nef97rn3d9n5s5793/PO++ee/7/7/+3/f+3mOMihmEYRsoU934ahmEYKWJCahiGkU9MSI1A9u/fL/fff7+UL19ebrrpJvnhhx+8V0R+/vlnad++vRQrVkxGjBghf//9t/eKyI8//ijjxo2TN99802tJzLZt2/R/ffHFF16LYYQLE1IjB7/99ps89thj0q9fPxXG+vXry9y5c71XRSpVqqQC2rx5cxk0aJCUKFFC2/fs2SOjR4+WW265RVq1aqVtyXDuuefKAw88IM8995x88MEHXqthhAcTUiMHWKGPPvqo1KlTR0466SRp2bKlbN++XQ4fPuwdIfLdd9/JJZdcIlWqVNHnf/75p0ybNk1uvvlmqV69urblhXLlyskdd9whU6dOlV9++cVrNYxwYEJq5ODYsWPyzDPPSO3ateWKK66Qzz77zHslCwo9du7cqZbqiSeeqG2ffPKJWrLnn3++PodJkyap+79u3Tp9jnXbu3dv+fLLL1WUBwwYoOf/+uuv9fUzzzxTrd33339fnxtGWDAhNaJAJGfMmKHi9/bbb8vy5ctl8+bNUqZMmWwX/uDBg7Jjxw4577zz9DlwDBZs6dKlvRaRPn36SNeuXb1nIl999ZXs2rVLjhw5osf17NlT2rRpI9WqVdPXOf/FF18sb731lr4PwwgLJqRGFN9//72K59ChQ6VGjRpStmxZddWxFn3rk0QU1qcvgLBv375sN9+nVKlS2kZyCmFEbCtXrqxCDPy87rrrsgUasEh5D4itYYQFE1IjChJGiOdZZ52lzxG7zz//XC677DJ9DrjmJ5xwgpx22mn6nKx9kPBhdSLCv//+e7Y736hRIz2WOChx1gYNGnhHG0Z4MSE1ovjmm2/URUdMgfgoFiVtPrQRCyUpBViUWJ9BcB4SUcuWLZNOnTqpuBITXblypbRt21ZKlizpHWkYBQOxebysZL0cjlu4cKH+XbKYkBpRnH322VrPeeDAAY1pkr2njrRq1ar6+l9//aUZfOKjJJJ8cOFx72OhfebMmSq6nLtmzZoqosWLF9dkViwI+RlnnJGrMKcC1QSXX365WsXx4LimTZuqBe7DoLrzzju1GgHL2ggX7733nrz88sty1VVXRfUpP9lJH/Yf3bp1U0+J46iTnj9/vnz66afeX8THhNSI4sILL5SGDRuq6F1zzTXSo0cPjWP6/Prrr5po4vVIKIXCUv3jjz+8liyIrSKMWKN0VoSVkio6aiyECD788ENp3LhxlEjnF8SRAcK5c4P3TXKtXbt2KvY+xIO3bt0aZaUb4YD+OGfOHOnVq1cOz4d7jXeEoeA/7r33Xjn11FP1dV674YYbZPLkyTmqVgJxDCMPbN682bn66qudb7/91mvJ4tChQ86QIUOcTZs2eS15Z8+ePY5rJTiueHktxwfXqnTuueceZ/jw4c6xY8e81mg2btzo1K9fX38a4Yf+eNdddzkrVqzwWv6D/jV+/Hjn4MGDXkvuLFiwQM/D+eJhFqmRNH6sk8TT6aef7rVmwQzOSihWJ7ki67UmD27z008/rS60bxUcL/xFBevXr49a6uqDJfzKK6+IO0GoRW6En3feeUfd8si6Zh/68COPPKKeFiv2Yr2oSCjH27Jli54vHnGFlKJsXKzWrVvL3r17vVbR32l7/vnnvRbR3zmWLCzF2emK/955r1xfJDzH5SS5ApFrylnCGLmmPF0hvomgUUZEDHLKlCkqgNSFEqd84YUXvCPzBn9Plp5E0d133x1VsuRDgf6YMWNk+vTp8sYbb3itiWGt/UMPPSQDBw6UZs2aea3HF86Le0cVAfcz8kE7Llznzp1VdMG1QHSlFa936NBBfvrpJ2030h/i+EuXLpW6detKhQoVvNYsEE0mbe4pLjtuPxNobotA6PPkAzgf580VzzINBJdo6NChjjtLO25n91qz3LuqVas6rqp7LY5z9OhR57777nP69OmTlMkcCefmf/B2knn0798/oakdD9zPevXqRb1/V2ycwYMH57hW9wN23A/SWblypdeSvmzdutVp2rSpM3XqVL13+/bt0/sxZ84cZ+LEiY4rFI5rkXlHZxa49A8++KDTqlWrqLCE7/Z37do1R0jBFU/9zOgX9A8jHHB/uc+R4zsI7r1rAGpIp0mTJjp+Yvnnn3+cUaNG5eg3scS1SJmdL7roIp2dsWrA/RtZs2aN1gBiofEcXCHVIu0bb7xRTj75ZG1LFiwZNqvgXMk8cAFxJVOFGkmSB2TufCsTdxTz3f3g9H/4cO3uhyyXXnqp15KecH/4XJiFcVm4d8ymt99+uzz++OPqMbCZSGTRfKxlFoZHqmBBkzyj4iAyE8tKq9dff126d++eI6RAX+D+Mwb8xQhG+oP3wHiO7OtBMEZYXYcnyiKQefPm5fA66XP0Hc4XzytJGCPlzbCu2i/9oITk3Xff1aV/kStQOAZxY0egdIdBwXWRkcVcRzgXL14srpWqr/uuPWvOGWR9+/bNrpnMC+yEFCsE8R7+mvRU4D1/9NFHGhM65ZRTvNasSYOJjUw0IY1IIiensDzyA/eXDD5hB3/AkL3F3WepaiyUfxHKCIqzGekLWoUeJVtl0aJFC3G9EnX1/VV3kWB0RWpgEAmFlF15eDAz0/lQbQqpiSsweBEiLLtZs2apuufHUiwsWJXjXxNiSTkPA4oPk9iiL6QbN25USxuLNBVcVzJQDHJ7UOuYKtxkSnwiS3cAUUVMuWfHO4kTNrh+yrD8pBOf12uvvabxMkq0YiF2S/2sX0NrFE0wYhjj6BheSCokFFI6H4pMsTXZq48//liuvfZaVXsGL0LDKgASG2S4UgF3C/cp1kLL7UEhLRedKhTcMnC4Jq6Brdtw7bhOzH3aGGizZ8/WhIOfgAgDsa4J10gdJNa3kVVTyr3FvSfBgGuPUUC/igQDgWJuwk6ZPgGFDYwkvA88imRh3FC/HOR5MoY4H+fNjYRCWrFixexs7bPPPqurPHhOoTUxA3bqYYYn/hbbGZOlsGOkUKtWrexyHn526dJFz8l17d69W1e5IK5Bq2/SESYGbjZWlC+mfFZr167V8AudCgs802EhAatcyMIuWLBAjQI2lo6FyZQJiL4ZBi/L+A82xiFcw7hmDCQCr3TDhg1atRFUjYK7z/k4b24kFFJKQ7DIhg8fnh1jAuJuCOmECRN0l/RUYoj/J1wTX4eBNUo5D4OFa2XWefLJJ/X3oLhZusLnz96eTAyUnyGm/M72d+zktGnTJi2NWrFiRWAtZV7Aus3ta0gKA2LJTNqpxJS579SUkoBbtGiRJqCCBg99mxyAvxsVK18IBRjpD4LH5jgkiGI9VyZQNIzcBwJKgpzxjrYFedT8PefhfPkSUtxgtlOjULp///7ZnQ7XnhMjokEzerrDNSGaFObyIQJJKNw4ag6xsBHTsICwUD/Ksjasa248VhVJQSywc845Rzp27KjWdmxtXV5I9DUkYYD7e+WVV6pLn1siyU/ODR48WB5++GHdW9Vc/HDAOCYWTl9nz4hIGAds/8hSYLwT6pcZL4yTII+ayZMcCueLW7nhmr4FBjVYo0eP1rrGogR1pj169HD27t3rtWQua9asyXddb17hf1Lb61reXothREN/ZGmn65V5LalB/bjrsf6/S0RR+JEjR8ptt93mtRQNsMJYIZSJ2VzcoaCvISE5M2TIEE0akjwE4rW33nqrbnTirxLDYsaqTRX+P3FfPAbug2EEQagOb5myxlRDMqyCIgTAirtEcfICE1J/4Fx//fU6kIoK/lJYblCm4U68uX4NCR2NWDMhEx9cIpbkIn7EGimPI8yQn3g6wk2ck1K1MIVejMKHpZ2uVSovvvhi9oKiZKHPUrWDfnGeRBSYkDJw+Mpe4o/JFsaGAWIpCEZYsvnHE5Iu8b6GBIEkhk6Wk45LuRxxRZ4jwjyCts/LCxdccIEMGzbMMulGUhADZ5/R1atX52lj51WrVukKwWRLOgvUtSdLTCIqKCsaVjD3yeRloluf6GtIsEz5XOiI1BuzQxQiy3NWxPF65Pc8GUZhQLkmiy6S3Syc40hE8nfJUmBCSvkNxc5FbXkdewywvDRyGWamkOhrSJgwEUuqBbAAqBJg0qGgmRmeTHlQZtQwwk6BCSkJBVzBoma5IR6UxsQthSiiUC4S72tI/PKxJ554Qsuv+JyYdF566SX1TKx8yCiqFJiQ+ssvyZgtWbLEaw0/JFBYjPDqq69qoW4mkehrSIAVY4gmG0EAQkocNdX9CgwjDBSjBsr7/bjCaheKmClRGTt2bJ631ktX2Jxl/Pjx8tRTT2WLhZF32KkKd5+Cd8MIOwUmpIZhGJlCgWbtDSMICvapJ6Vg3zCKAiakRqFDbTHfpJCJJWRG0cSE1Ch0SEJSHleUFmoYmY0JqVHoUIvLzmFFaaGGkcmI/Atjit4gkbz/ogAAAABJRU5ErkJggg==)\n",
        "\n",
        "Chuyển sang công thức viết theo dạng ma trận, ta có công thức tương đương sau:\n",
        "\n",
        "![image.png](data:image/png;base64,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)"
      ],
      "metadata": {
        "id": "Q3oEoGrlRKRt"
      }
    },
    {
      "cell_type": "code",
      "source": [
        "alpha = 0.01\n",
        "w = w - (alpha*dh_J)"
      ],
      "metadata": {
        "id": "KI3TUAT_N5R2"
      },
      "execution_count": null,
      "outputs": []
    },
    {
      "cell_type": "code",
      "source": [
        "w.shape"
      ],
      "metadata": {
        "colab": {
          "base_uri": "https://localhost:8080/"
        },
        "id": "cxowoB4LVU-y",
        "outputId": "4d43ba03-90f7-42d1-8324-511e1a9a0523"
      },
      "execution_count": null,
      "outputs": [
        {
          "output_type": "execute_result",
          "data": {
            "text/plain": [
              "(3, 1)"
            ]
          },
          "metadata": {},
          "execution_count": 83
        }
      ]
    }
  ]
}