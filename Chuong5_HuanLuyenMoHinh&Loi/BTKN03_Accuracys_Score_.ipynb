{
  "nbformat": 4,
  "nbformat_minor": 0,
  "metadata": {
    "colab": {
      "provenance": [],
      "authorship_tag": "ABX9TyMAJqcFCyeD0YiG8EDTN6JL",
      "include_colab_link": true
    },
    "kernelspec": {
      "name": "python3",
      "display_name": "Python 3"
    },
    "language_info": {
      "name": "python"
    }
  },
  "cells": [
    {
      "cell_type": "markdown",
      "metadata": {
        "id": "view-in-github",
        "colab_type": "text"
      },
      "source": [
        "<a href=\"https://colab.research.google.com/github/lenaphamthi/MachineLearning/blob/main/Chuong5_HuanLuyenMoHinh%26Loi/BTKN03_Accuracys_Score_.ipynb\" target=\"_parent\"><img src=\"https://colab.research.google.com/assets/colab-badge.svg\" alt=\"Open In Colab\"/></a>"
      ]
    },
    {
      "cell_type": "markdown",
      "source": [
        "Import các thư viện cần thiết "
      ],
      "metadata": {
        "id": "kqlVyMawA4Gh"
      }
    },
    {
      "cell_type": "code",
      "execution_count": 1,
      "metadata": {
        "id": "Uvd2lCSvA1iI"
      },
      "outputs": [],
      "source": [
        "import numpy as np\n",
        "from sklearn.metrics import top_k_accuracy_score\n",
        "from sklearn.metrics import confusion_matrix\n",
        "from sklearn.metrics import balanced_accuracy_score\n",
        "from sklearn.metrics import precision_score\n",
        "from sklearn.metrics import recall_score\n",
        "from sklearn.metrics import f1_score\n",
        "from sklearn.metrics import hamming_loss\n"
      ]
    },
    {
      "cell_type": "markdown",
      "source": [
        "Độ do top k accuracy"
      ],
      "metadata": {
        "id": "9WnDCimTBLjw"
      }
    },
    {
      "cell_type": "code",
      "source": [
        "def top_k_accuracy_score2(y_test, y_score, k):\n",
        "  sorted_index = np.argsort(y_score, axis=1)[:, ::-1]\n",
        "  top_k = sorted_index[:, :k].T\n",
        "  result = np.sum(y_test == top_k)\n",
        "  return result\n",
        "y_test = np.array([0, 1, 2, 2])\n",
        "y_score = np.array([[0.5, 0.2, 0.2], \n",
        "                    [0.3, 0.4, 0.2],\n",
        "                    [0.2, 0.4, 0.3],\n",
        "                    [0.7, 0.2, 0.1]])\n",
        "print(top_k_accuracy_score(y_test, y_score, k=2, normalize=False))\n",
        "print(top_k_accuracy_score2(y_test, y_score, 2))"
      ],
      "metadata": {
        "colab": {
          "base_uri": "https://localhost:8080/"
        },
        "id": "7JaHUlaRBT-f",
        "outputId": "54d5885a-161a-4e9e-e053-482938305252"
      },
      "execution_count": 2,
      "outputs": [
        {
          "output_type": "stream",
          "name": "stdout",
          "text": [
            "3\n",
            "3\n"
          ]
        }
      ]
    },
    {
      "cell_type": "markdown",
      "source": [
        "Confusion matrix "
      ],
      "metadata": {
        "id": "maYEd9djBaco"
      }
    },
    {
      "cell_type": "code",
      "source": [
        "def confusion_matrix2(y_test, y_pred):\n",
        "  y_test = np.array(y_test)\n",
        "  y_pred = np.array(y_pred)\n",
        "  class_num = np.unique(y_test).shape[0]\n",
        "  result = np.zeros((class_num, class_num))\n",
        "  n = y_test.shape[0]\n",
        "  for i in range(n):\n",
        "    result[y_test[i], y_pred[i]] += 1\n",
        "  return result\n",
        "y_test = [0, 0, 0, 1, 1, 1, 1, 1]\n",
        "y_pred = [0, 1, 0, 1, 0, 1, 0, 1]\n",
        "print(confusion_matrix(y_test, y_pred))\n",
        "print(confusion_matrix2(y_test, y_pred))"
      ],
      "metadata": {
        "colab": {
          "base_uri": "https://localhost:8080/"
        },
        "id": "W5AIhD--Bfsw",
        "outputId": "1970d292-cf4c-461b-d654-a4600a8570d5"
      },
      "execution_count": 3,
      "outputs": [
        {
          "output_type": "stream",
          "name": "stdout",
          "text": [
            "[[2 1]\n",
            " [2 3]]\n",
            "[[2. 1.]\n",
            " [2. 3.]]\n"
          ]
        }
      ]
    },
    {
      "cell_type": "markdown",
      "source": [
        "Độ do balanced accuracy "
      ],
      "metadata": {
        "id": "oovh2OB4Bj8d"
      }
    },
    {
      "cell_type": "code",
      "source": [
        "def true_negative_rate(y_test, y_pred, positive=None):\n",
        "  cm = confusion_matrix2(y_test, y_pred)\n",
        "  sum_cross = np.sum(cm.diagonal())\n",
        "  if positive:\n",
        "    tp = cm[positive,positive]\n",
        "    tn = sum_cross - tp\n",
        "    fp = np.sum(cm[:,positive]) - tp\n",
        "    return tn/(tn+fp)\n",
        "  else:\n",
        "    class_num = np.unique(y_test).shape[0]\n",
        "    result = []\n",
        "    for i in range(class_num):\n",
        "      tp = cm[i,i]\n",
        "      tn = sum_cross - tp\n",
        "      fp = np.sum(cm[:,i]) - tp\n",
        "      result.append(tn/(tn+fp))\n",
        "    return np.array(result)\n",
        "\n",
        "def balanced_accuracy_score2(y_test, y_pred, positive=None):\n",
        "  temp1 = recall_score2(y_test, y_pred, positive)\n",
        "  temp2 = true_negative_rate(y_test, y_pred, positive)\n",
        "  return 1/2 * (temp1 + temp2)\n",
        "  \n",
        "y_test = [0, 1, 0, 0, 1, 0]\n",
        "y_pred = [0, 1, 0, 0, 0, 1]\n",
        "print(balanced_accuracy_score(y_test, y_pred))\n",
        "print(balanced_accuracy_score2(y_test, y_pred, 1))"
      ],
      "metadata": {
        "colab": {
          "base_uri": "https://localhost:8080/"
        },
        "id": "u1cMkNL8Bprr",
        "outputId": "d1903f10-5099-4583-d47c-5b2757c18fb6"
      },
      "execution_count": 12,
      "outputs": [
        {
          "output_type": "stream",
          "name": "stdout",
          "text": [
            "0.625\n",
            "0.625\n"
          ]
        }
      ]
    },
    {
      "cell_type": "markdown",
      "source": [
        "  Độ do Precision"
      ],
      "metadata": {
        "id": "KSrqSUv1DBa1"
      }
    },
    {
      "cell_type": "code",
      "source": [
        "def precision_score2(y_test, y_pred, positive = None):\n",
        "  cm = confusion_matrix2(y_test, y_pred)\n",
        "  if positive:\n",
        "    return cm[positive,positive]/np.sum(cm[:, positive])\n",
        "  else:\n",
        "    class_num = np.unique(y_test).shape[0]\n",
        "    result = []\n",
        "    for i in range(class_num):\n",
        "      result.append(cm[i,i]/np.sum(cm[:, i]))\n",
        "    return np.array(result)\n",
        "\n",
        "y_test = [0, 0, 0, 1, 1, 1, 1, 1]\n",
        "y_pred = [0, 1, 0, 1, 0, 1, 0, 1]\n",
        "print(precision_score(y_test, y_pred))\n",
        "print(precision_score2(y_test, y_pred, 1))"
      ],
      "metadata": {
        "colab": {
          "base_uri": "https://localhost:8080/"
        },
        "id": "bQLE6HDUDENq",
        "outputId": "fc7a5a45-6134-4a98-d00f-c99058de5250"
      },
      "execution_count": 8,
      "outputs": [
        {
          "output_type": "stream",
          "name": "stdout",
          "text": [
            "0.75\n",
            "0.75\n"
          ]
        }
      ]
    },
    {
      "cell_type": "markdown",
      "source": [
        "Độ do Recall "
      ],
      "metadata": {
        "id": "1i_d1BiIDKgN"
      }
    },
    {
      "cell_type": "code",
      "source": [
        "def recall_score2(y_test, y_pred, positive=None):\n",
        "  cm = confusion_matrix2(y_test, y_pred)\n",
        "  if positive:\n",
        "    return cm[positive,positive]/np.sum(cm[positive])\n",
        "  else:\n",
        "    class_num = np.unique(y_test).shape[0]\n",
        "    result = []\n",
        "    for i in range(class_num):\n",
        "      result.append(cm[i,i]/np.sum(cm[i]))\n",
        "    return np.array(result) \n",
        "\n",
        "y_test = [0, 0, 0, 1, 1, 1, 1, 1]\n",
        "y_pred = [0, 1, 0, 1, 0, 1, 0, 1]\n",
        "print(recall_score(y_test, y_pred))\n",
        "print(recall_score2(y_test, y_pred, 1))"
      ],
      "metadata": {
        "colab": {
          "base_uri": "https://localhost:8080/"
        },
        "id": "YRhJirmMDMGh",
        "outputId": "ef2a0c5e-f861-47bc-c3a0-5dca75e11c11"
      },
      "execution_count": 9,
      "outputs": [
        {
          "output_type": "stream",
          "name": "stdout",
          "text": [
            "0.6\n",
            "0.6\n"
          ]
        }
      ]
    },
    {
      "cell_type": "markdown",
      "source": [
        "Độ do F1 "
      ],
      "metadata": {
        "id": "qyEetA0MDRv0"
      }
    },
    {
      "cell_type": "code",
      "source": [
        "def f1_score2(y_test, y_pred, positive=None):\n",
        "  precision = precision_score2(y_test, y_pred, positive)\n",
        "  recall = recall_score2(y_test, y_pred, positive)\n",
        "  result = 2 * (precision * recall) / (precision + recall)\n",
        "  return result\n",
        "\n",
        "y_test = [0, 0, 0, 1, 1, 1, 1, 1]\n",
        "y_pred = [0, 1, 0, 1, 0, 1, 0, 1]\n",
        "print(f1_score(y_test, y_pred))\n",
        "print(f1_score2(y_test, y_pred, 1))"
      ],
      "metadata": {
        "colab": {
          "base_uri": "https://localhost:8080/"
        },
        "id": "Jk3J-EV3DSzE",
        "outputId": "e67aa0ea-4448-40e9-9e66-f6c5f50104e5"
      },
      "execution_count": 10,
      "outputs": [
        {
          "output_type": "stream",
          "name": "stdout",
          "text": [
            "0.6666666666666665\n",
            "0.6666666666666665\n"
          ]
        }
      ]
    },
    {
      "cell_type": "markdown",
      "source": [
        "Độ do Haming loss "
      ],
      "metadata": {
        "id": "UeGf8P_JDXZg"
      }
    },
    {
      "cell_type": "code",
      "source": [
        "def hamming_loss2(y_test, y_pred):\n",
        "  n = y_test.shape[0]\n",
        "  return np.sum(y_test != y_pred)/n\n",
        "\n",
        "y_pred = np.array([1, 2, 3, 4])\n",
        "y_test = np.array([2, 2, 3, 4])\n",
        "print(hamming_loss(y_test, y_pred))\n",
        "print(hamming_loss2(y_test, y_pred))"
      ],
      "metadata": {
        "colab": {
          "base_uri": "https://localhost:8080/"
        },
        "id": "PVOAyrrUDcyM",
        "outputId": "e2d4296e-8877-4e74-a764-822408c2380a"
      },
      "execution_count": 11,
      "outputs": [
        {
          "output_type": "stream",
          "name": "stdout",
          "text": [
            "0.25\n",
            "0.25\n"
          ]
        }
      ]
    }
  ]
}