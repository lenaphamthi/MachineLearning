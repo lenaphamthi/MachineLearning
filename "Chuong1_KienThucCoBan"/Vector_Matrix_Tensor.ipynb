{
  "nbformat": 4,
  "nbformat_minor": 0,
  "metadata": {
    "colab": {
      "provenance": [],
      "authorship_tag": "ABX9TyOEiPlhRIwYhwyLQUw9kFLW",
      "include_colab_link": true
    },
    "kernelspec": {
      "name": "python3",
      "display_name": "Python 3"
    },
    "language_info": {
      "name": "python"
    }
  },
  "cells": [
    {
      "cell_type": "markdown",
      "metadata": {
        "id": "view-in-github",
        "colab_type": "text"
      },
      "source": [
        "<a href=\"https://colab.research.google.com/github/lenaphamthi/MachineLearning/blob/main/%22Chuong1_KienThucCoBan%22/Vector_Matrix_Tensor.ipynb\" target=\"_parent\"><img src=\"https://colab.research.google.com/assets/colab-badge.svg\" alt=\"Open In Colab\"/></a>"
      ]
    },
    {
      "cell_type": "markdown",
      "source": [
        "**BÀI ÔN TẬP KIẾN THỨC TOÁN VÀ LẬP TRÌNH**\n",
        "\n"
      ],
      "metadata": {
        "id": "Rv-MJdzlA17O"
      }
    },
    {
      "cell_type": "markdown",
      "source": [
        "1. Các phép toán với vector\n"
      ],
      "metadata": {
        "id": "xmzSU1oqArrn"
      }
    },
    {
      "cell_type": "code",
      "source": [
        "import numpy as np"
      ],
      "metadata": {
        "id": "2gGa7feeBUZ8"
      },
      "execution_count": null,
      "outputs": []
    },
    {
      "cell_type": "markdown",
      "source": [
        "*Cộng 2 vector*"
      ],
      "metadata": {
        "id": "5vwi9MiPCIOZ"
      }
    },
    {
      "cell_type": "code",
      "execution_count": null,
      "metadata": {
        "id": "5YICraMEAi0z"
      },
      "outputs": [],
      "source": [
        "x = np.array([1,2,3,4])\n",
        "y = np.array([5,3,2,1])\n",
        "z = x+y"
      ]
    },
    {
      "cell_type": "code",
      "source": [
        "print(z)"
      ],
      "metadata": {
        "colab": {
          "base_uri": "https://localhost:8080/"
        },
        "id": "PxG75oQ-BSFI",
        "outputId": "6b9694db-8da9-4fa2-b23e-1a2a6ad532a2"
      },
      "execution_count": null,
      "outputs": [
        {
          "output_type": "stream",
          "name": "stdout",
          "text": [
            "[6 5 5 5]\n"
          ]
        }
      ]
    },
    {
      "cell_type": "code",
      "source": [
        "#kích thước vector \n",
        "print(z.ndim)"
      ],
      "metadata": {
        "colab": {
          "base_uri": "https://localhost:8080/"
        },
        "id": "41qDmPyaBa6t",
        "outputId": "75649c16-ebe6-4c87-de43-fc9697bd90ef"
      },
      "execution_count": null,
      "outputs": [
        {
          "output_type": "stream",
          "name": "stdout",
          "text": [
            "1\n"
          ]
        }
      ]
    },
    {
      "cell_type": "code",
      "source": [
        "#số chiều của vector\n",
        "print(z.shape)"
      ],
      "metadata": {
        "colab": {
          "base_uri": "https://localhost:8080/"
        },
        "id": "3P4oT33dBgV6",
        "outputId": "3f1fd519-c8eb-43eb-d522-0cb9389f6a5e"
      },
      "execution_count": null,
      "outputs": [
        {
          "output_type": "stream",
          "name": "stdout",
          "text": [
            "(4,)\n"
          ]
        }
      ]
    },
    {
      "cell_type": "markdown",
      "source": [
        "*Phép nhân đại lượng vô hướng với vector trong Python*"
      ],
      "metadata": {
        "id": "FRiF4dd1Cbp4"
      }
    },
    {
      "cell_type": "code",
      "source": [
        "x = np.array([1, 2, 3, 4])\n",
        "a = 15\n",
        "z = a*x"
      ],
      "metadata": {
        "id": "20a7ER7YCiLs"
      },
      "execution_count": null,
      "outputs": []
    },
    {
      "cell_type": "code",
      "source": [
        "print(z)"
      ],
      "metadata": {
        "colab": {
          "base_uri": "https://localhost:8080/"
        },
        "id": "YZVkpSHBCzWF",
        "outputId": "ab89e2c2-a95c-40bf-ec52-34415661df53"
      },
      "execution_count": null,
      "outputs": [
        {
          "output_type": "stream",
          "name": "stdout",
          "text": [
            "[15 30 45 60]\n"
          ]
        }
      ]
    },
    {
      "cell_type": "code",
      "source": [
        "#số chiều của vector\n",
        "print(z.ndim)"
      ],
      "metadata": {
        "colab": {
          "base_uri": "https://localhost:8080/"
        },
        "id": "T2oSTvYYC3is",
        "outputId": "462ed8b7-aa51-4096-b394-6720a39d22e5"
      },
      "execution_count": null,
      "outputs": [
        {
          "output_type": "stream",
          "name": "stdout",
          "text": [
            "1\n"
          ]
        }
      ]
    },
    {
      "cell_type": "code",
      "source": [
        "#kích thước vector \n",
        "print(z.shape)"
      ],
      "metadata": {
        "colab": {
          "base_uri": "https://localhost:8080/"
        },
        "id": "VsIHpWHhC5Qo",
        "outputId": "259edd32-b490-4b20-fa22-22b0a5beb722"
      },
      "execution_count": null,
      "outputs": [
        {
          "output_type": "stream",
          "name": "stdout",
          "text": [
            "(4,)\n"
          ]
        }
      ]
    },
    {
      "cell_type": "markdown",
      "source": [
        "*Tích vô hướng của 2 vector*"
      ],
      "metadata": {
        "id": "UjtQjEWTDmi2"
      }
    },
    {
      "cell_type": "code",
      "source": [
        "x = np.array([1, 2, 3, 4])\n",
        "y = np.array([5, 3, 2, 1])\n",
        "z = np.dot(x,y)"
      ],
      "metadata": {
        "id": "4egdXUlpDuIQ"
      },
      "execution_count": null,
      "outputs": []
    },
    {
      "cell_type": "code",
      "source": [
        "print(z)"
      ],
      "metadata": {
        "colab": {
          "base_uri": "https://localhost:8080/"
        },
        "id": "ObJNrBL-Dwjl",
        "outputId": "2ea0ad66-0f50-4d99-9150-b146496b03b6"
      },
      "execution_count": null,
      "outputs": [
        {
          "output_type": "stream",
          "name": "stdout",
          "text": [
            "21\n"
          ]
        }
      ]
    },
    {
      "cell_type": "code",
      "source": [
        "#số chiều của vector\n",
        "print(z.ndim)"
      ],
      "metadata": {
        "colab": {
          "base_uri": "https://localhost:8080/"
        },
        "id": "dZhhMLZnD3FN",
        "outputId": "5ccecd11-09c9-46a2-ae6d-648f9dc5a77b"
      },
      "execution_count": null,
      "outputs": [
        {
          "output_type": "stream",
          "name": "stdout",
          "text": [
            "0\n"
          ]
        }
      ]
    },
    {
      "cell_type": "code",
      "source": [
        "#kích thước vector \n",
        "print(z.shape)"
      ],
      "metadata": {
        "colab": {
          "base_uri": "https://localhost:8080/"
        },
        "id": "Dnt1bnKED4fF",
        "outputId": "f23eedd8-75d8-41c4-824c-48fac3a0eb1f"
      },
      "execution_count": null,
      "outputs": [
        {
          "output_type": "stream",
          "name": "stdout",
          "text": [
            "()\n"
          ]
        }
      ]
    },
    {
      "cell_type": "markdown",
      "source": [
        "*Tích hữu hướng của 2 vector*"
      ],
      "metadata": {
        "id": "upu5qnqJExCw"
      }
    },
    {
      "cell_type": "code",
      "source": [
        "x = np.array([1,2,3])\n",
        "y = np.array([3,2,1])\n",
        "z = np.cross(x, y)"
      ],
      "metadata": {
        "id": "HpH4S9XlFFhY"
      },
      "execution_count": null,
      "outputs": []
    },
    {
      "cell_type": "code",
      "source": [
        "print(z)"
      ],
      "metadata": {
        "colab": {
          "base_uri": "https://localhost:8080/"
        },
        "id": "sl86RY2-FR8_",
        "outputId": "9aec677a-5675-4657-d2ba-217337747ccd"
      },
      "execution_count": null,
      "outputs": [
        {
          "output_type": "stream",
          "name": "stdout",
          "text": [
            "[-4  8 -4]\n"
          ]
        }
      ]
    },
    {
      "cell_type": "code",
      "source": [
        "#số chiều của vector\n",
        "print(z.ndim)"
      ],
      "metadata": {
        "colab": {
          "base_uri": "https://localhost:8080/"
        },
        "id": "No2tEtngFT2f",
        "outputId": "72d23798-82bc-4218-da2f-7f662b3eb587"
      },
      "execution_count": null,
      "outputs": [
        {
          "output_type": "stream",
          "name": "stdout",
          "text": [
            "1\n"
          ]
        }
      ]
    },
    {
      "cell_type": "code",
      "source": [
        "#kích thước vector \n",
        "print(z.shape)"
      ],
      "metadata": {
        "colab": {
          "base_uri": "https://localhost:8080/"
        },
        "id": "SIqMuRpZFY0A",
        "outputId": "5008f2a4-6d42-41f4-80c0-f7da2f35da87"
      },
      "execution_count": null,
      "outputs": [
        {
          "output_type": "stream",
          "name": "stdout",
          "text": [
            "(3,)\n"
          ]
        }
      ]
    },
    {
      "cell_type": "markdown",
      "source": [
        "*Phép nhân các phần tử có vị trí tương ứng (elementwise multiplication) 2 vector*"
      ],
      "metadata": {
        "id": "TY9v_E00GZRI"
      }
    },
    {
      "cell_type": "code",
      "source": [
        "x = np.array([1,2,3,4])\n",
        "y = np.array([5,3,2,1])\n",
        "z = np.multiply(x,y)"
      ],
      "metadata": {
        "id": "KiYgfEGfGbnv"
      },
      "execution_count": null,
      "outputs": []
    },
    {
      "cell_type": "code",
      "source": [
        "print(z)"
      ],
      "metadata": {
        "colab": {
          "base_uri": "https://localhost:8080/"
        },
        "id": "DoeBJZjxGuwz",
        "outputId": "23ad0984-0a5b-4ea4-c079-6aec76905d73"
      },
      "execution_count": null,
      "outputs": [
        {
          "output_type": "stream",
          "name": "stdout",
          "text": [
            "[5 6 6 4]\n"
          ]
        }
      ]
    },
    {
      "cell_type": "code",
      "source": [
        "#số chiều của vector\n",
        "print(z.ndim)"
      ],
      "metadata": {
        "colab": {
          "base_uri": "https://localhost:8080/"
        },
        "id": "5Z4dwHn3Gwvd",
        "outputId": "fb41ce36-ea39-42ce-a484-ef38f36f5f63"
      },
      "execution_count": null,
      "outputs": [
        {
          "output_type": "stream",
          "name": "stdout",
          "text": [
            "1\n"
          ]
        }
      ]
    },
    {
      "cell_type": "code",
      "source": [
        "#kích thước vector \n",
        "print(z.shape)"
      ],
      "metadata": {
        "colab": {
          "base_uri": "https://localhost:8080/"
        },
        "id": "dIlafv9oGx_o",
        "outputId": "13f766ab-3bc7-4f1d-b23b-087b27498430"
      },
      "execution_count": null,
      "outputs": [
        {
          "output_type": "stream",
          "name": "stdout",
          "text": [
            "(4,)\n"
          ]
        }
      ]
    },
    {
      "cell_type": "markdown",
      "source": [
        "2. Các phép toán với ma trận\n"
      ],
      "metadata": {
        "id": "9ndDvocvG3g7"
      }
    },
    {
      "cell_type": "markdown",
      "source": [
        "*Phép cộng 2 ma trận*"
      ],
      "metadata": {
        "id": "bXy7Jvg-HBEA"
      }
    },
    {
      "cell_type": "code",
      "source": [
        "X = np.array([1,2,3,4,5,6]).reshape((2,3))\n",
        "Y = np.array([6,5,4,3,2,1]).reshape((2,3))\n",
        "Z = X + Y"
      ],
      "metadata": {
        "id": "1MDBoCEjHEbP"
      },
      "execution_count": null,
      "outputs": []
    },
    {
      "cell_type": "code",
      "source": [
        "print(Z)"
      ],
      "metadata": {
        "colab": {
          "base_uri": "https://localhost:8080/"
        },
        "id": "bKoYPHpxHSaI",
        "outputId": "f00d57a2-99c8-4579-c863-0d22ad88c862"
      },
      "execution_count": null,
      "outputs": [
        {
          "output_type": "stream",
          "name": "stdout",
          "text": [
            "[[7 7 7]\n",
            " [7 7 7]]\n"
          ]
        }
      ]
    },
    {
      "cell_type": "code",
      "source": [
        "#số chiều và kích thước của ma trận \n",
        "print(Z.ndim,';',Z.shape)"
      ],
      "metadata": {
        "colab": {
          "base_uri": "https://localhost:8080/"
        },
        "id": "brRfdSqdHWuh",
        "outputId": "8afef697-c369-468c-903e-5901694f0585"
      },
      "execution_count": null,
      "outputs": [
        {
          "output_type": "stream",
          "name": "stdout",
          "text": [
            "2 ; (2, 3)\n"
          ]
        }
      ]
    },
    {
      "cell_type": "markdown",
      "source": [
        "*Phép nhân ma trận với 1 đại lượng vô hướng*"
      ],
      "metadata": {
        "id": "lzK8D6u3H6Wp"
      }
    },
    {
      "cell_type": "code",
      "source": [
        "X = np.array([1,2,3,4,5,6]).reshape((2,3))\n",
        "a = 2\n",
        "Z = a*X"
      ],
      "metadata": {
        "id": "6vPxETXcH-X2"
      },
      "execution_count": null,
      "outputs": []
    },
    {
      "cell_type": "code",
      "source": [
        "print(Z)"
      ],
      "metadata": {
        "colab": {
          "base_uri": "https://localhost:8080/"
        },
        "id": "h0eGXAnUIEZF",
        "outputId": "47062fe8-b89b-47d7-8b0c-3fada1d57c59"
      },
      "execution_count": null,
      "outputs": [
        {
          "output_type": "stream",
          "name": "stdout",
          "text": [
            "[[ 2  4  6]\n",
            " [ 8 10 12]]\n"
          ]
        }
      ]
    },
    {
      "cell_type": "code",
      "source": [
        "#số chiều và kích thước của ma trận \n",
        "print(Z.ndim,';',Z.shape)"
      ],
      "metadata": {
        "colab": {
          "base_uri": "https://localhost:8080/"
        },
        "id": "aD85aQHFIGJp",
        "outputId": "238212a6-99ba-4de3-b562-ee3ffb910956"
      },
      "execution_count": null,
      "outputs": [
        {
          "output_type": "stream",
          "name": "stdout",
          "text": [
            "2 ; (2, 3)\n"
          ]
        }
      ]
    },
    {
      "cell_type": "markdown",
      "source": [
        "*Phép chuyển vị ma trận (transpose)*"
      ],
      "metadata": {
        "id": "0zZb7tsvIJrL"
      }
    },
    {
      "cell_type": "code",
      "source": [
        "X = np.array([1,2,3,4,5,6]).reshape((2,3))\n",
        "Z = X.T"
      ],
      "metadata": {
        "id": "RMISsEzDILB4"
      },
      "execution_count": null,
      "outputs": []
    },
    {
      "cell_type": "code",
      "source": [
        "print(Z)"
      ],
      "metadata": {
        "colab": {
          "base_uri": "https://localhost:8080/"
        },
        "id": "ZnKTUizIIT1j",
        "outputId": "26399f1a-83db-4365-c6b6-2d08a1271c99"
      },
      "execution_count": null,
      "outputs": [
        {
          "output_type": "stream",
          "name": "stdout",
          "text": [
            "[[1 4]\n",
            " [2 5]\n",
            " [3 6]]\n"
          ]
        }
      ]
    },
    {
      "cell_type": "code",
      "source": [
        "#số chiều và kích thước của ma trận \n",
        "print(Z.ndim,';',Z.shape)"
      ],
      "metadata": {
        "colab": {
          "base_uri": "https://localhost:8080/"
        },
        "id": "1Z6XRXxaIVPz",
        "outputId": "efec47ff-d66c-4277-ea7b-5a9a1e76bd67"
      },
      "execution_count": null,
      "outputs": [
        {
          "output_type": "stream",
          "name": "stdout",
          "text": [
            "2 ; (3, 2)\n"
          ]
        }
      ]
    },
    {
      "cell_type": "markdown",
      "source": [
        "*Phép nhân 2 ma trận*"
      ],
      "metadata": {
        "id": "DOUBsU2dIY38"
      }
    },
    {
      "cell_type": "code",
      "source": [
        "X = np.array([1,2,3,4,5,6]).reshape((2,3))\n",
        "Y = np.array([6,5,4,3,2,1]).reshape((3,2))\n",
        "Z = np.dot(X,Y)"
      ],
      "metadata": {
        "id": "_ke_Uva2IaST"
      },
      "execution_count": null,
      "outputs": []
    },
    {
      "cell_type": "code",
      "source": [
        "print(Z)"
      ],
      "metadata": {
        "colab": {
          "base_uri": "https://localhost:8080/"
        },
        "id": "7Izh11eVIfEg",
        "outputId": "f6d9fdb8-0c64-43dc-c885-d0accffa5321"
      },
      "execution_count": null,
      "outputs": [
        {
          "output_type": "stream",
          "name": "stdout",
          "text": [
            "[[20 14]\n",
            " [56 41]]\n"
          ]
        }
      ]
    },
    {
      "cell_type": "code",
      "source": [
        "#số chiều và kích thước của ma trận \n",
        "print(Z.ndim,';',Z.shape)"
      ],
      "metadata": {
        "colab": {
          "base_uri": "https://localhost:8080/"
        },
        "id": "hiEKr7SGIhKP",
        "outputId": "df790797-93dd-49fd-acf5-50c09518fbd5"
      },
      "execution_count": null,
      "outputs": [
        {
          "output_type": "stream",
          "name": "stdout",
          "text": [
            "2 ; (2, 2)\n"
          ]
        }
      ]
    },
    {
      "cell_type": "markdown",
      "source": [
        "*Phép nhân các phần tử có vị trí tương đương (elementwise multiplication) của 2 ma trận*"
      ],
      "metadata": {
        "id": "LiGR3v1yJCOl"
      }
    },
    {
      "cell_type": "code",
      "source": [
        "X = np.array([1,2,3,4,5,6]).reshape((2,3))\n",
        "Y = np.array([6,5,4,3,2,1]).reshape((2,3))\n",
        "Z = X*Y"
      ],
      "metadata": {
        "id": "vSiJsc76JE7R"
      },
      "execution_count": null,
      "outputs": []
    },
    {
      "cell_type": "code",
      "source": [
        "print(Z)"
      ],
      "metadata": {
        "colab": {
          "base_uri": "https://localhost:8080/"
        },
        "id": "G1fwVkq3JW0X",
        "outputId": "09305bb7-2cdf-4a18-b5c5-6e0aa6822743"
      },
      "execution_count": null,
      "outputs": [
        {
          "output_type": "stream",
          "name": "stdout",
          "text": [
            "[[ 6 10 12]\n",
            " [12 10  6]]\n"
          ]
        }
      ]
    },
    {
      "cell_type": "code",
      "source": [
        "#số chiều và kích thước của ma trận \n",
        "print(Z.ndim,';',Z.shape)"
      ],
      "metadata": {
        "colab": {
          "base_uri": "https://localhost:8080/"
        },
        "id": "LnjjItirJn6U",
        "outputId": "ec1bdb19-9aa7-405a-e20f-a15417aabaa7"
      },
      "execution_count": null,
      "outputs": [
        {
          "output_type": "stream",
          "name": "stdout",
          "text": [
            "2 ; (2, 3)\n"
          ]
        }
      ]
    },
    {
      "cell_type": "markdown",
      "source": [
        "*Tạo ma trận cột dạng đặc biệt $R^{m*1}$*\n"
      ],
      "metadata": {
        "id": "I2vl1w_JJtSK"
      }
    },
    {
      "cell_type": "code",
      "source": [
        "x = np.array([1,2,3,4,5]).reshape((5,1))"
      ],
      "metadata": {
        "id": "Vz5kQpkEKDgI"
      },
      "execution_count": null,
      "outputs": []
    },
    {
      "cell_type": "code",
      "source": [
        "print(x)"
      ],
      "metadata": {
        "colab": {
          "base_uri": "https://localhost:8080/"
        },
        "id": "euwXuO6VKUlV",
        "outputId": "87726f3f-81d8-40ed-fef2-d4e108d73faf"
      },
      "execution_count": null,
      "outputs": [
        {
          "output_type": "stream",
          "name": "stdout",
          "text": [
            "[[1]\n",
            " [2]\n",
            " [3]\n",
            " [4]\n",
            " [5]]\n"
          ]
        }
      ]
    },
    {
      "cell_type": "code",
      "source": [
        "#số chiều và kích thước của vector \n",
        "print(x.ndim,';',x.shape)"
      ],
      "metadata": {
        "colab": {
          "base_uri": "https://localhost:8080/"
        },
        "id": "xKAAKWxUKWkX",
        "outputId": "6c45819e-49a0-4c48-baf4-5ce1129ecf06"
      },
      "execution_count": null,
      "outputs": [
        {
          "output_type": "stream",
          "name": "stdout",
          "text": [
            "2 ; (5, 1)\n"
          ]
        }
      ]
    },
    {
      "cell_type": "markdown",
      "source": [
        "*Lấy ra 1 vector hàng từ ma trận X và chuyển thành ma trận đặc biệt dạng $R^{1*n}$*"
      ],
      "metadata": {
        "id": "IUl9w4tKKc76"
      }
    },
    {
      "cell_type": "code",
      "source": [
        "X = np.array([1,2,3,4,5,6]).reshape((2,3))\n",
        "m = X.shape[0]\n",
        "n = X.shape[1]\n",
        "print('m = ', m, '; n = ', n)"
      ],
      "metadata": {
        "id": "ynK6ZqT9Kbq8",
        "colab": {
          "base_uri": "https://localhost:8080/"
        },
        "outputId": "cc8268af-cd12-4cb8-8c62-d99914f7b3ef"
      },
      "execution_count": null,
      "outputs": [
        {
          "output_type": "stream",
          "name": "stdout",
          "text": [
            "m =  2 ; n =  3\n"
          ]
        }
      ]
    },
    {
      "cell_type": "code",
      "source": [
        "x = X[0, :]\n",
        "print(x)"
      ],
      "metadata": {
        "colab": {
          "base_uri": "https://localhost:8080/"
        },
        "id": "q4Xad2dVmeKn",
        "outputId": "dd7bbf0d-01b4-4648-a5a8-5d1513ab5d5e"
      },
      "execution_count": null,
      "outputs": [
        {
          "output_type": "stream",
          "name": "stdout",
          "text": [
            "[1 2 3]\n"
          ]
        }
      ]
    },
    {
      "cell_type": "code",
      "source": [
        "print(x.ndim, '; ', x.shape)"
      ],
      "metadata": {
        "colab": {
          "base_uri": "https://localhost:8080/"
        },
        "id": "CFnX6v93mg33",
        "outputId": "8720a390-e86d-41d6-a99a-bf0b8459e5e3"
      },
      "execution_count": null,
      "outputs": [
        {
          "output_type": "stream",
          "name": "stdout",
          "text": [
            "1 ;  (3,)\n"
          ]
        }
      ]
    },
    {
      "cell_type": "code",
      "source": [
        "x = x.reshape((1,n))\n",
        "print(x)"
      ],
      "metadata": {
        "colab": {
          "base_uri": "https://localhost:8080/"
        },
        "id": "bz9MNUFEmi3f",
        "outputId": "2733793c-d70a-47af-c122-6aa5fa1ff54f"
      },
      "execution_count": null,
      "outputs": [
        {
          "output_type": "stream",
          "name": "stdout",
          "text": [
            "[[1 2 3]]\n"
          ]
        }
      ]
    },
    {
      "cell_type": "code",
      "source": [
        "print(x.ndim, '; ', x.shape)"
      ],
      "metadata": {
        "colab": {
          "base_uri": "https://localhost:8080/"
        },
        "id": "nFwtmi4km4rL",
        "outputId": "86a7d5a8-bb16-42fa-da70-f3a5893f9f5c"
      },
      "execution_count": null,
      "outputs": [
        {
          "output_type": "stream",
          "name": "stdout",
          "text": [
            "2 ;  (1, 3)\n"
          ]
        }
      ]
    },
    {
      "cell_type": "markdown",
      "source": [
        "Lấy ra 1 vector cột từ ma trận X và chuyển thành ma trận đặc biệt dạng $R^{m×1}$"
      ],
      "metadata": {
        "id": "tMhBHSXrpZGL"
      }
    },
    {
      "cell_type": "code",
      "source": [
        "X = np.array([1,2,3,4,5,6]).reshape((2,3))\n",
        "m = X.shape[0]\n",
        "n = X.shape[1]\n",
        "print('m = ', m, '; n = ', n)"
      ],
      "metadata": {
        "colab": {
          "base_uri": "https://localhost:8080/"
        },
        "id": "eNukSFBYprXD",
        "outputId": "b6cb40b5-d0bf-4bdd-cb5e-b9b465cd154f"
      },
      "execution_count": null,
      "outputs": [
        {
          "output_type": "stream",
          "name": "stdout",
          "text": [
            "m =  2 ; n =  3\n"
          ]
        }
      ]
    },
    {
      "cell_type": "code",
      "source": [
        "x = X[:,1]\n",
        "print(x)"
      ],
      "metadata": {
        "colab": {
          "base_uri": "https://localhost:8080/"
        },
        "id": "it7HaUulpxAj",
        "outputId": "e1f30c3b-6daa-4bd0-b69e-54de30a7d1e3"
      },
      "execution_count": null,
      "outputs": [
        {
          "output_type": "stream",
          "name": "stdout",
          "text": [
            "[2 5]\n"
          ]
        }
      ]
    },
    {
      "cell_type": "code",
      "source": [
        "print(x.ndim, '; ', x.shape)"
      ],
      "metadata": {
        "colab": {
          "base_uri": "https://localhost:8080/"
        },
        "id": "B8c7qipWpwMC",
        "outputId": "a121525d-2293-4d88-bee1-d9bbcb7b1eef"
      },
      "execution_count": null,
      "outputs": [
        {
          "output_type": "stream",
          "name": "stdout",
          "text": [
            "1 ;  (2,)\n"
          ]
        }
      ]
    },
    {
      "cell_type": "code",
      "source": [
        "x = x.reshape((m,1))\n",
        "print(x)"
      ],
      "metadata": {
        "colab": {
          "base_uri": "https://localhost:8080/"
        },
        "id": "nMKlSUGRpziW",
        "outputId": "9d9feb45-8811-4168-88ce-b18e6f59d99c"
      },
      "execution_count": null,
      "outputs": [
        {
          "output_type": "stream",
          "name": "stdout",
          "text": [
            "[[2]\n",
            " [5]]\n"
          ]
        }
      ]
    },
    {
      "cell_type": "code",
      "source": [
        "print(x.ndim, '; ', x.shape)"
      ],
      "metadata": {
        "colab": {
          "base_uri": "https://localhost:8080/"
        },
        "id": "OxNIeGEop1MR",
        "outputId": "a4bd896b-439a-43cc-ed8d-0b49a6459c7b"
      },
      "execution_count": null,
      "outputs": [
        {
          "output_type": "stream",
          "name": "stdout",
          "text": [
            "2 ;  (2, 1)\n"
          ]
        }
      ]
    },
    {
      "cell_type": "markdown",
      "source": [
        "Xếp thêm 1 vector cột vào đầu ma trận : x ∈ $R^m$ hay x ∈ $R^{m×1}$, X ∈ $R^{m×n}$,\n",
        "X = [x,X]"
      ],
      "metadata": {
        "id": "feJDUwirp7hy"
      }
    },
    {
      "cell_type": "code",
      "source": [
        "X=np.array([1,2,3,4,5,6,7,8,9,10,11,12]).reshape((4,3))\n",
        "x = np.array([1,1,1,1]).reshape((4,1))\n",
        "X = np.column_stack([x,X])\n",
        "print(X)\n",
        "#số chiều và kích thước của ma trận\n",
        "print(X.ndim, '; ', X.shape)"
      ],
      "metadata": {
        "colab": {
          "base_uri": "https://localhost:8080/"
        },
        "id": "ZdINaaMWq_46",
        "outputId": "37dfe20a-f0be-46a2-88ca-653660d33d97"
      },
      "execution_count": null,
      "outputs": [
        {
          "output_type": "stream",
          "name": "stdout",
          "text": [
            "[[ 1  1  2  3]\n",
            " [ 1  4  5  6]\n",
            " [ 1  7  8  9]\n",
            " [ 1 10 11 12]]\n",
            "2 ;  (4, 4)\n"
          ]
        }
      ]
    },
    {
      "cell_type": "markdown",
      "source": [
        "Tách 1 ma trận **data** ban đầu gồm **n cột** thành 1 ma trận con **X** chứa các**n-1** cột đầu tiên và 1 vector cột y lấy ra từ cột cuối cùng của **data** "
      ],
      "metadata": {
        "id": "VXMdDe09rRi2"
      }
    },
    {
      "cell_type": "code",
      "source": [
        "data = np.array([[10,22,13,1],\n",
        "[9,6,5,0],\n",
        "[8,12,4,1],\n",
        "[6,5,7,0]])\n",
        "X = data[:,:-1]\n",
        "y = data[:,-1].reshape((data.shape[0], 1))\n",
        "print(X)\n",
        "print(X.ndim, '; ', X.shape)"
      ],
      "metadata": {
        "colab": {
          "base_uri": "https://localhost:8080/"
        },
        "id": "W1xpVvv8rQr_",
        "outputId": "199e7031-f86c-4af5-84f2-06afaa7ccbf8"
      },
      "execution_count": null,
      "outputs": [
        {
          "output_type": "stream",
          "name": "stdout",
          "text": [
            "[[10 22 13]\n",
            " [ 9  6  5]\n",
            " [ 8 12  4]\n",
            " [ 6  5  7]]\n",
            "2 ;  (4, 3)\n"
          ]
        }
      ]
    },
    {
      "cell_type": "code",
      "source": [
        "print(y)\n",
        "print(y.ndim, '; ', y.shape)"
      ],
      "metadata": {
        "colab": {
          "base_uri": "https://localhost:8080/"
        },
        "id": "F7ZfMzKCsPMD",
        "outputId": "67b0cef2-d660-4413-d022-ee9574291095"
      },
      "execution_count": null,
      "outputs": [
        {
          "output_type": "stream",
          "name": "stdout",
          "text": [
            "[[1]\n",
            " [0]\n",
            " [1]\n",
            " [0]]\n",
            "2 ;  (4, 1)\n"
          ]
        }
      ]
    },
    {
      "cell_type": "markdown",
      "source": [
        "3. Các phép toán với tensor hạng cao (≥\n",
        "3)"
      ],
      "metadata": {
        "id": "ukZUBWORsWgn"
      }
    },
    {
      "cell_type": "markdown",
      "source": [
        "Tạo 1 tensor T ∈ $R^{m×n×k}$ với m = 2, n= 2 và k = 3, các giá trị được sinh ngẫu nhiên. "
      ],
      "metadata": {
        "id": "iv2gYAaGsnE4"
      }
    },
    {
      "cell_type": "code",
      "source": [
        "import numpy as np\n",
        "m=2\n",
        "n=2\n",
        "k=3\n",
        "T = np.random.randint(low=0,high=5,size=m*n*k).reshape(m,n,k)\n",
        "print(T)"
      ],
      "metadata": {
        "colab": {
          "base_uri": "https://localhost:8080/"
        },
        "id": "0iraqOkysmVv",
        "outputId": "0ce47080-b21e-4a35-a1f8-aa21072f9aad"
      },
      "execution_count": null,
      "outputs": [
        {
          "output_type": "stream",
          "name": "stdout",
          "text": [
            "[[[2 3 2]\n",
            "  [3 0 2]]\n",
            "\n",
            " [[2 1 4]\n",
            "  [0 4 1]]]\n"
          ]
        }
      ]
    },
    {
      "cell_type": "code",
      "source": [
        "print(T.shape)"
      ],
      "metadata": {
        "colab": {
          "base_uri": "https://localhost:8080/"
        },
        "id": "Musw_Xf4wmPS",
        "outputId": "cd060383-8681-4960-f2e4-263cae20f924"
      },
      "execution_count": null,
      "outputs": [
        {
          "output_type": "stream",
          "name": "stdout",
          "text": [
            "(2, 2, 3)\n"
          ]
        }
      ]
    },
    {
      "cell_type": "markdown",
      "source": [
        "Tạo 1 tensor T2 ∈ $R^{m×n×k×q}$ chứa 2 tensor t1,t2 ∈ $R^{m×n×k}$, biết t1 và t2 được sinh ngẫu nhiên"
      ],
      "metadata": {
        "id": "x8I72pPWuIhe"
      }
    },
    {
      "cell_type": "code",
      "source": [
        "import numpy as np\n",
        "m=2\n",
        "n=2\n",
        "k=3\n",
        "t1 = np.random.randint(low=0,high=5,size=m*n*k).reshape(m,n,k)\n",
        "t2 = np.random.randint(low=0,high=5,size=m*n*k).reshape(m,n,k)\n",
        "T2 = np.stack((t1, t2), axis=0)\n",
        "print(T2)"
      ],
      "metadata": {
        "colab": {
          "base_uri": "https://localhost:8080/"
        },
        "id": "xunTKB0MuHln",
        "outputId": "5eddd25d-27e5-4b7f-80a9-391e7212e350"
      },
      "execution_count": null,
      "outputs": [
        {
          "output_type": "stream",
          "name": "stdout",
          "text": [
            "[[[[1 0 0]\n",
            "   [0 4 4]]\n",
            "\n",
            "  [[2 0 2]\n",
            "   [4 1 2]]]\n",
            "\n",
            "\n",
            " [[[2 1 4]\n",
            "   [3 4 1]]\n",
            "\n",
            "  [[1 2 0]\n",
            "   [2 0 1]]]]\n"
          ]
        }
      ]
    },
    {
      "cell_type": "code",
      "source": [
        "print(T2.shape)"
      ],
      "metadata": {
        "colab": {
          "base_uri": "https://localhost:8080/"
        },
        "id": "1jFetpn_wHxS",
        "outputId": "975cba0a-fc4b-4fe8-febb-c96eaa831dc7"
      },
      "execution_count": null,
      "outputs": [
        {
          "output_type": "stream",
          "name": "stdout",
          "text": [
            "(2, 2, 2, 3)\n"
          ]
        }
      ]
    }
  ]
}