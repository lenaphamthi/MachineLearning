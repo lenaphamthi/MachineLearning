{
  "nbformat": 4,
  "nbformat_minor": 0,
  "metadata": {
    "colab": {
      "provenance": [],
      "authorship_tag": "ABX9TyO/6IPb2DaksRDHGvdEZsKR",
      "include_colab_link": true
    },
    "kernelspec": {
      "name": "python3",
      "display_name": "Python 3"
    },
    "language_info": {
      "name": "python"
    }
  },
  "cells": [
    {
      "cell_type": "markdown",
      "metadata": {
        "id": "view-in-github",
        "colab_type": "text"
      },
      "source": [
        "<a href=\"https://colab.research.google.com/github/lenaphamthi/MachineLearning/blob/main/Chuong1_KienThucCoBan/vector_ma_tran_python.ipynb\" target=\"_parent\"><img src=\"https://colab.research.google.com/assets/colab-badge.svg\" alt=\"Open In Colab\"/></a>"
      ]
    },
    {
      "cell_type": "markdown",
      "source": [
        "1. Cho v là 1 vector hàng \n",
        "v= [1, 2, 3, 4, 5]\n",
        "\n",
        "Lưu ý: vector tương ứng với tensor hạng 1\n",
        "\n"
      ],
      "metadata": {
        "id": "4gHzl39sZyhp"
      }
    },
    {
      "cell_type": "code",
      "execution_count": null,
      "metadata": {
        "id": "IoBAYW26Yrhk"
      },
      "outputs": [],
      "source": [
        "import numpy as np \n",
        "v = np.array([1, 2, 3,4,5])"
      ]
    },
    {
      "cell_type": "markdown",
      "source": [
        "2. Cho w là 1 vcetor cột\n",
        "w= [1;2;3;4;5]\n",
        "\n",
        "Lưu ý: vector cũng có thể biểu diễn như là tensor hạng 2 ở trường hợp đặc biệt là $\\mathrm{R}^{m*1}$\n",
        "\n",
        "\n"
      ],
      "metadata": {
        "id": "kvMvRhaRZx2O"
      }
    },
    {
      "cell_type": "code",
      "source": [
        "w = np.array([1, 2, 3, 4, 5]).reshape(-1, 1)"
      ],
      "metadata": {
        "id": "TcqB5c5uabAx"
      },
      "execution_count": null,
      "outputs": []
    },
    {
      "cell_type": "markdown",
      "source": [
        "3. Hãy xác định số chiều (ndim), kích thước (shape) của 2 vector v và w; \n",
        "In 2 vector v và w ra màn hình; Nhận xét điểm khác biệt của kết quả)\n"
      ],
      "metadata": {
        "id": "GBsAT2nxb8-V"
      }
    },
    {
      "cell_type": "code",
      "source": [
        "#số chiều (ndim) cua vector v \n",
        "v.ndim"
      ],
      "metadata": {
        "colab": {
          "base_uri": "https://localhost:8080/"
        },
        "id": "WkBgpdKFb-OY",
        "outputId": "09e6c89e-8c58-4c93-b68a-efadc910265d"
      },
      "execution_count": null,
      "outputs": [
        {
          "output_type": "execute_result",
          "data": {
            "text/plain": [
              "1"
            ]
          },
          "metadata": {},
          "execution_count": 3
        }
      ]
    },
    {
      "cell_type": "code",
      "source": [
        "##số chiều (ndim) cua vector w \n",
        "w.ndim"
      ],
      "metadata": {
        "colab": {
          "base_uri": "https://localhost:8080/"
        },
        "id": "DchO0207cAnl",
        "outputId": "5c79adac-7fcd-4770-e168-e8289d1823b8"
      },
      "execution_count": null,
      "outputs": [
        {
          "output_type": "execute_result",
          "data": {
            "text/plain": [
              "2"
            ]
          },
          "metadata": {},
          "execution_count": 33
        }
      ]
    },
    {
      "cell_type": "code",
      "source": [
        "#kích thước (shape) cua vector v \n",
        "v.shape"
      ],
      "metadata": {
        "colab": {
          "base_uri": "https://localhost:8080/"
        },
        "id": "_pFsM9VtcCsq",
        "outputId": "27a9135b-fa7e-4aba-ef14-9cf3c69e20cb"
      },
      "execution_count": null,
      "outputs": [
        {
          "output_type": "execute_result",
          "data": {
            "text/plain": [
              "(5,)"
            ]
          },
          "metadata": {},
          "execution_count": 5
        }
      ]
    },
    {
      "cell_type": "code",
      "source": [
        "##kích thước (shape) cua vector w \n",
        "w.shape"
      ],
      "metadata": {
        "colab": {
          "base_uri": "https://localhost:8080/"
        },
        "id": "qwPMHACccC0o",
        "outputId": "d04e828b-439d-42a2-d2fb-6d2cb9ced3a0"
      },
      "execution_count": null,
      "outputs": [
        {
          "output_type": "execute_result",
          "data": {
            "text/plain": [
              "(5, 1)"
            ]
          },
          "metadata": {},
          "execution_count": 4
        }
      ]
    },
    {
      "cell_type": "markdown",
      "source": [
        "*Nhận xét: **v** là một vector (tensor hạng 1) , **w**  là ma trận (tensor hạng 2)*"
      ],
      "metadata": {
        "id": "yCb8dJzWcKgf"
      }
    },
    {
      "cell_type": "markdown",
      "source": [
        "4. Cho u và w là 2 vector cột có kích thước (m, 1). Hãy tạo ma trận X bằng cách ghép 2 vector cột u và w lại với nhau\n",
        "X= [u, w]\n",
        "*   Cách 1: sử dụng hàm np.column_stack()\n",
        "*   Cách 2:sử dụng hàm np.hstack()\n",
        "\n",
        "Hãy xác định số chiều, kích thước và in nội dung ma trận X ra màn hình\n",
        "\n",
        "\n"
      ],
      "metadata": {
        "id": "E4L5kWnBcPcH"
      }
    },
    {
      "cell_type": "code",
      "source": [
        "np.random.seed(0)\n",
        "u = np.random.randint(low = 0, high = 20, size = (5, 1)) \n",
        "w = np.random.randint(low = 0, high = 20, size = (5, 1))"
      ],
      "metadata": {
        "id": "WrH2OGczcN7g"
      },
      "execution_count": null,
      "outputs": []
    },
    {
      "cell_type": "code",
      "source": [
        "print(u) "
      ],
      "metadata": {
        "colab": {
          "base_uri": "https://localhost:8080/"
        },
        "id": "eIJxnhXecnTK",
        "outputId": "ce030b43-5e14-4a8b-853b-051b7133c118"
      },
      "execution_count": null,
      "outputs": [
        {
          "output_type": "stream",
          "name": "stdout",
          "text": [
            "[[12]\n",
            " [15]\n",
            " [ 0]\n",
            " [ 3]\n",
            " [ 3]]\n"
          ]
        }
      ]
    },
    {
      "cell_type": "code",
      "source": [
        "print(w)"
      ],
      "metadata": {
        "colab": {
          "base_uri": "https://localhost:8080/"
        },
        "id": "P97MTAd6conZ",
        "outputId": "0e049c19-d0d3-43e0-e38b-3abbe34e4526"
      },
      "execution_count": null,
      "outputs": [
        {
          "output_type": "stream",
          "name": "stdout",
          "text": [
            "[[ 7]\n",
            " [ 9]\n",
            " [19]\n",
            " [18]\n",
            " [ 4]]\n"
          ]
        }
      ]
    },
    {
      "cell_type": "code",
      "source": [
        "#Tạo ma trận X bằng cách ghép 2 vector cột u và w \n",
        "#Cách 1: sử dụng hàm np.column_stack()\n"
      ],
      "metadata": {
        "id": "G0u_zw40cuNw"
      },
      "execution_count": null,
      "outputs": []
    },
    {
      "cell_type": "code",
      "source": [
        "#Sô chiều của X:\n"
      ],
      "metadata": {
        "colab": {
          "base_uri": "https://localhost:8080/"
        },
        "id": "Lb1986WMdLrt",
        "outputId": "fb1be289-7f62-44da-d580-926d32df026f"
      },
      "execution_count": null,
      "outputs": [
        {
          "output_type": "execute_result",
          "data": {
            "text/plain": [
              "2"
            ]
          },
          "metadata": {},
          "execution_count": 10
        }
      ]
    },
    {
      "cell_type": "code",
      "source": [
        "#KKích thước của X:\n"
      ],
      "metadata": {
        "colab": {
          "base_uri": "https://localhost:8080/"
        },
        "id": "-RhocB8QJ-K0",
        "outputId": "abb48a3e-6d4f-4fd7-89fb-419dc658a5b3"
      },
      "execution_count": null,
      "outputs": [
        {
          "output_type": "execute_result",
          "data": {
            "text/plain": [
              "(5, 2)"
            ]
          },
          "metadata": {},
          "execution_count": 11
        }
      ]
    },
    {
      "cell_type": "code",
      "source": [
        "#In ma trận X\n",
        "X"
      ],
      "metadata": {
        "colab": {
          "base_uri": "https://localhost:8080/"
        },
        "id": "sOZa-65MKS1d",
        "outputId": "9f38f993-9430-4256-8a13-602c6c77f24a"
      },
      "execution_count": null,
      "outputs": [
        {
          "output_type": "execute_result",
          "data": {
            "text/plain": [
              "array([[12,  7],\n",
              "       [15,  9],\n",
              "       [ 0, 19],\n",
              "       [ 3, 18],\n",
              "       [ 3,  4]])"
            ]
          },
          "metadata": {},
          "execution_count": 20
        }
      ]
    },
    {
      "cell_type": "markdown",
      "source": [
        "5. Hãy tạo ma trận X có giá trị như sau\n",
        "X= [1 6 4  2 7 5  3 8 7  4 9 2  5 2 1 ]   \n",
        "*   Hãy tạo ma trận X bằng np.array()\n",
        "*  Hãy tạo ma trận X bằng hàm np.reshape()\n",
        "*  Hãy xác định số chiều, kích thước và in nội dung ma trận X ra màn hình\n"
      ],
      "metadata": {
        "id": "juOOhvRkdhFJ"
      }
    },
    {
      "cell_type": "code",
      "source": [
        "X = np.array([\n",
        "    [1, 6, 4, 2, 7],\n",
        "    [5, 3, 8, 7, 4],\n",
        "    [9, 2, 5, 2, 1]])"
      ],
      "metadata": {
        "id": "rt15eDQ6dhug"
      },
      "execution_count": null,
      "outputs": []
    },
    {
      "cell_type": "code",
      "source": [
        "#Tạo ma trận X bằng hàm np.reshape()\n",
        "X = np.array([1,6,4,2,7,5,3,8,7, 4,9,2, 5,2,1]).reshape(3,5)"
      ],
      "metadata": {
        "id": "3_RW26cZdmnJ"
      },
      "execution_count": null,
      "outputs": []
    },
    {
      "cell_type": "code",
      "source": [
        "#Số chiều X: \n",
        "X.ndim"
      ],
      "metadata": {
        "colab": {
          "base_uri": "https://localhost:8080/"
        },
        "id": "UfxvVt5gdy5A",
        "outputId": "7b98f277-f01f-4a80-aef2-085d90a4a4f1"
      },
      "execution_count": null,
      "outputs": [
        {
          "output_type": "execute_result",
          "data": {
            "text/plain": [
              "2"
            ]
          },
          "metadata": {},
          "execution_count": 53
        }
      ]
    },
    {
      "cell_type": "code",
      "source": [
        "#Kích thước X :\n",
        "X.shape"
      ],
      "metadata": {
        "colab": {
          "base_uri": "https://localhost:8080/"
        },
        "id": "pSqMHppId6nP",
        "outputId": "aeb30466-ad13-401c-c723-c9142abf688c"
      },
      "execution_count": null,
      "outputs": [
        {
          "output_type": "execute_result",
          "data": {
            "text/plain": [
              "(3, 5)"
            ]
          },
          "metadata": {},
          "execution_count": 54
        }
      ]
    },
    {
      "cell_type": "code",
      "source": [
        "#In ma trận X \n",
        "X"
      ],
      "metadata": {
        "colab": {
          "base_uri": "https://localhost:8080/"
        },
        "id": "M5S-o-yHd7_P",
        "outputId": "876636ee-7369-4e4e-8bd3-12c5db2fa6a7"
      },
      "execution_count": null,
      "outputs": [
        {
          "output_type": "execute_result",
          "data": {
            "text/plain": [
              "array([[1, 6, 4, 2, 7],\n",
              "       [5, 3, 8, 7, 4],\n",
              "       [9, 2, 5, 2, 1]])"
            ]
          },
          "metadata": {},
          "execution_count": 55
        }
      ]
    },
    {
      "cell_type": "markdown",
      "source": [
        "6. Hãy nhân ma trận X với vector v\n",
        "*   Sử dụng hàm np.dot()\n",
        "*   Xác định chiều, kích thước và in nội dung kết quả phép nhân ra màn hình\n"
      ],
      "metadata": {
        "id": "CdfU6sBud-k0"
      }
    },
    {
      "cell_type": "code",
      "source": [
        "#hàm np.dot() để nhân ma trận X với vector v \n",
        "mt1 = np.dot(X, v)"
      ],
      "metadata": {
        "id": "M1JYneWkeCDW"
      },
      "execution_count": null,
      "outputs": []
    },
    {
      "cell_type": "code",
      "source": [
        "#Chiều của phép nhân \n",
        "mt1.ndim"
      ],
      "metadata": {
        "colab": {
          "base_uri": "https://localhost:8080/"
        },
        "id": "o6f2TstyeO8h",
        "outputId": "7a28eaf0-25d3-4850-be37-8d7db7f60f92"
      },
      "execution_count": null,
      "outputs": [
        {
          "output_type": "execute_result",
          "data": {
            "text/plain": [
              "1"
            ]
          },
          "metadata": {},
          "execution_count": 57
        }
      ]
    },
    {
      "cell_type": "code",
      "source": [
        "#kích thước \n",
        "mt1.shape"
      ],
      "metadata": {
        "colab": {
          "base_uri": "https://localhost:8080/"
        },
        "id": "0BPguovDeRRY",
        "outputId": "209de638-dc56-44f6-f4f5-545e5091c773"
      },
      "execution_count": null,
      "outputs": [
        {
          "output_type": "execute_result",
          "data": {
            "text/plain": [
              "(3,)"
            ]
          },
          "metadata": {},
          "execution_count": 58
        }
      ]
    },
    {
      "cell_type": "code",
      "source": [
        "#in kết quả \n",
        "mt1"
      ],
      "metadata": {
        "colab": {
          "base_uri": "https://localhost:8080/"
        },
        "id": "EItmMqxteYer",
        "outputId": "336f7b04-2c5c-4329-ba57-a5d5e4e46479"
      },
      "execution_count": null,
      "outputs": [
        {
          "output_type": "execute_result",
          "data": {
            "text/plain": [
              "array([68, 83, 41])"
            ]
          },
          "metadata": {},
          "execution_count": 60
        }
      ]
    },
    {
      "cell_type": "markdown",
      "source": [
        "7. Hãy nhân ma trận X với vector w\n",
        "*   Sử dụng hàm np.dot()\n",
        "*   Xác định chiều, kích thước và in nội dung kết quả phép nhân ra màn hình\n"
      ],
      "metadata": {
        "id": "IjhGg1_OegsC"
      }
    },
    {
      "cell_type": "code",
      "source": [
        "#hàm np.dot() để nhân ma trận X với vector w \n",
        "mt2 = np.dot(X, w)"
      ],
      "metadata": {
        "id": "YpOc9vmsejrf"
      },
      "execution_count": null,
      "outputs": []
    },
    {
      "cell_type": "code",
      "source": [
        "#chiều của phép nhân \n",
        "mt2.ndim"
      ],
      "metadata": {
        "colab": {
          "base_uri": "https://localhost:8080/"
        },
        "id": "wqrwdt2NeuTv",
        "outputId": "af252297-b03e-40a8-c82e-2560dd0fe2b2"
      },
      "execution_count": null,
      "outputs": [
        {
          "output_type": "execute_result",
          "data": {
            "text/plain": [
              "2"
            ]
          },
          "metadata": {},
          "execution_count": 71
        }
      ]
    },
    {
      "cell_type": "code",
      "source": [
        "#kích thước \n",
        "mt2.shape "
      ],
      "metadata": {
        "colab": {
          "base_uri": "https://localhost:8080/"
        },
        "id": "EOgbDu9Cev5m",
        "outputId": "196e3c16-0ac2-4b66-b3ba-2ad601c08474"
      },
      "execution_count": null,
      "outputs": [
        {
          "output_type": "execute_result",
          "data": {
            "text/plain": [
              "(3, 1)"
            ]
          },
          "metadata": {},
          "execution_count": 62
        }
      ]
    },
    {
      "cell_type": "code",
      "source": [
        "#in kết quả \n",
        "mt2"
      ],
      "metadata": {
        "colab": {
          "base_uri": "https://localhost:8080/"
        },
        "id": "UiZrzOeieyvk",
        "outputId": "ec16fdda-2cd9-4d68-cef6-97c65532e810"
      },
      "execution_count": null,
      "outputs": [
        {
          "output_type": "execute_result",
          "data": {
            "text/plain": [
              "array([[201],\n",
              "       [356],\n",
              "       [216]])"
            ]
          },
          "metadata": {},
          "execution_count": 63
        }
      ]
    },
    {
      "cell_type": "markdown",
      "source": [
        "*Khác biệt giữa kết quả câu 6 và 7 là về chiều và kích thước (tensor)*\n"
      ],
      "metadata": {
        "id": "5__1QfcRPGqY"
      }
    },
    {
      "cell_type": "markdown",
      "source": [
        "8. Xét ma trận X ở câu 5, hãy tìm ma trận chuyển vị của X, ký hiệu là XT\n",
        "*   Hãy sử dụng cú pháp .T của gói numpy để tìm ma trận chuyển vị.\n",
        "\n",
        "\n",
        "\n"
      ],
      "metadata": {
        "id": "DFezjohffvLS"
      }
    },
    {
      "cell_type": "code",
      "source": [
        "X.T"
      ],
      "metadata": {
        "colab": {
          "base_uri": "https://localhost:8080/"
        },
        "id": "tgwSWJwUe2Mq",
        "outputId": "8dc15bcc-b0e9-4a37-db02-082ee81beccd"
      },
      "execution_count": null,
      "outputs": [
        {
          "output_type": "execute_result",
          "data": {
            "text/plain": [
              "array([[1, 5, 9],\n",
              "       [6, 3, 2],\n",
              "       [4, 8, 5],\n",
              "       [2, 7, 2],\n",
              "       [7, 4, 1]])"
            ]
          },
          "metadata": {},
          "execution_count": 65
        }
      ]
    }
  ]
}